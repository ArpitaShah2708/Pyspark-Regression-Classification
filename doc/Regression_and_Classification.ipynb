{
 "cells": [
  {
   "cell_type": "code",
   "execution_count": 1,
   "metadata": {},
   "outputs": [],
   "source": [
    "import findspark\n",
    "findspark.init()"
   ]
  },
  {
   "cell_type": "code",
   "execution_count": 2,
   "metadata": {},
   "outputs": [],
   "source": [
    "from pyspark.sql import SparkSession, SQLContext\n",
    "from pyspark.ml import Pipeline\n",
    "from pyspark.ml.feature import VectorAssembler, StringIndexer, VectorIndexer, IndexToString\n",
    "from pyspark.ml.regression import LinearRegression, DecisionTreeRegressor, GBTRegressor\n",
    "from pyspark.ml.classification import LogisticRegression, GBTClassifier, RandomForestClassifier\n",
    "from pyspark.ml.evaluation import RegressionEvaluator, MulticlassClassificationEvaluator"
   ]
  },
  {
   "cell_type": "code",
   "execution_count": 3,
   "metadata": {},
   "outputs": [],
   "source": [
    "spark = SparkSession\\\n",
    "    .builder\\\n",
    "    .appName(\"Machine_Learning\")\\\n",
    "    .getOrCreate()\n",
    "    \n",
    "sqlContext = SQLContext(spark)"
   ]
  },
  {
   "cell_type": "markdown",
   "metadata": {},
   "source": [
    "#### 1. Regression\n",
    "\n",
    "In this question, I will try to predict the number of rings (tells us the age) of an abalone based on different features like sex, length, diameter, height and weight using linear regression, decision tree regression and gradient-boosted tree regression. I evaluate the performance of the model using root mean squared error (RMSE). As seen, RMSE improves with each model. \n",
    "\n",
    "The data is in the 'libsvm' format so no preprocessing is necessary."
   ]
  },
  {
   "cell_type": "code",
   "execution_count": 4,
   "metadata": {},
   "outputs": [
    {
     "name": "stdout",
     "output_type": "stream",
     "text": [
      "Number of rows = 4177\n"
     ]
    }
   ],
   "source": [
    "# Read the data\n",
    "# Data needs to be in libsvm format\n",
    "regData = spark.read.format('libsvm').load('abalone.txt')\n",
    "\n",
    "# Checking the dimensions of the Dataframe\n",
    "print(\"Number of rows = \" + str(regData.count()))"
   ]
  },
  {
   "cell_type": "code",
   "execution_count": 5,
   "metadata": {},
   "outputs": [],
   "source": [
    "# Split the data into train (75%) and test (25%)\n",
    "(train, test) = regData.randomSplit([0.75,0.25], seed=0)"
   ]
  },
  {
   "cell_type": "code",
   "execution_count": 6,
   "metadata": {},
   "outputs": [
    {
     "name": "stdout",
     "output_type": "stream",
     "text": [
      "Coefficients: [-0.23336738972975304,0.2482148684290254,2.5261012612260365,16.27060791361096,0.0,-1.4825385837384837,0.0,8.089093572250103]\n",
      "Intercept: 5.553189074979348\n",
      "The RMSE of linear regression is 2.5262466917925055\n"
     ]
    }
   ],
   "source": [
    "# Linear Regression\n",
    "\n",
    "lr = LinearRegression(maxIter=15, regParam=0.5, elasticNetParam=0.3)\n",
    "\n",
    "# Training summary\n",
    "lr_model = lr.fit(train)\n",
    "print(\"Coefficients: %s\" % str(lr_model.coefficients))\n",
    "print(\"Intercept: %s\" % str(lr_model.intercept))\n",
    "\n",
    "# Evaluation on test data\n",
    "prediction = lr_model.transform(test)\n",
    "evaluator = RegressionEvaluator(labelCol=\"label\",\n",
    "                                predictionCol=\"prediction\",\n",
    "                                metricName=\"rmse\")\n",
    "\n",
    "rmse1 = evaluator.evaluate(prediction)\n",
    "print(\"The RMSE of linear regression is \" + str(rmse1))"
   ]
  },
  {
   "cell_type": "code",
   "execution_count": 7,
   "metadata": {},
   "outputs": [
    {
     "name": "stdout",
     "output_type": "stream",
     "text": [
      "The RMSE of decision tree regression is 2.275210428073053\n"
     ]
    }
   ],
   "source": [
    "# Decision Tree Regression\n",
    "\n",
    "# Creating a pipeline for the model\n",
    "featureIndexer = VectorIndexer(inputCol=\"features\", outputCol=\"indexedFeatures\", maxCategories=4).fit(regData)\n",
    "dt = DecisionTreeRegressor(featuresCol=\"indexedFeatures\")\n",
    "pipeline = Pipeline(stages=[featureIndexer, dt])\n",
    "\n",
    "# Fitting the model\n",
    "dt_model = pipeline.fit(train)\n",
    "\n",
    "# Prediction and evaluation\n",
    "prediction = dt_model.transform(test)\n",
    "evaluator = RegressionEvaluator(labelCol=\"label\",\n",
    "                                predictionCol=\"prediction\",\n",
    "                                metricName=\"rmse\")\n",
    "\n",
    "rmse2 = evaluator.evaluate(prediction)\n",
    "print(\"The RMSE of decision tree regression is \" + str(rmse2))"
   ]
  },
  {
   "cell_type": "code",
   "execution_count": 8,
   "metadata": {},
   "outputs": [
    {
     "name": "stdout",
     "output_type": "stream",
     "text": [
      "The RMSE of gradient-boosted tree regression is 2.2074058312931144\n"
     ]
    }
   ],
   "source": [
    "# Gradient-boosted Tree Regression\n",
    "\n",
    "# Creating pipeline for the model\n",
    "gbt = GBTRegressor(featuresCol=\"indexedFeatures\", maxIter=15)\n",
    "pipeline = Pipeline(stages=[featureIndexer, gbt])\n",
    "\n",
    "# Fitting the model\n",
    "gbt_model = pipeline.fit(train)\n",
    "\n",
    "# Prediction and evaluation\n",
    "prediction = gbt_model.transform(test)\n",
    "evaluator = RegressionEvaluator(labelCol=\"label\",\n",
    "                                predictionCol=\"prediction\",\n",
    "                                metricName=\"rmse\")\n",
    "\n",
    "rmse3 = evaluator.evaluate(prediction)\n",
    "print(\"The RMSE of gradient-boosted tree regression is \" + str(rmse3))"
   ]
  },
  {
   "cell_type": "markdown",
   "metadata": {},
   "source": [
    "#### 2. Classification\n",
    "\n",
    "I performed classification on the diabetes dataset using the following methods:\n",
    "\n",
    "(i) Logistic Regression\n",
    "\n",
    "(ii) Gradient Boosted Tree\n",
    "\n",
    "(iii) Random Forest\n",
    "\n",
    "The accuracy of classification on the test set improves with each method."
   ]
  },
  {
   "cell_type": "code",
   "execution_count": 9,
   "metadata": {},
   "outputs": [],
   "source": [
    "# Read the data\n",
    "diabetes = sqlContext.read.format('com.databricks.spark.csv').options(header='true', inferschema='true').load('diabetes.csv')"
   ]
  },
  {
   "cell_type": "code",
   "execution_count": 10,
   "metadata": {},
   "outputs": [
    {
     "name": "stdout",
     "output_type": "stream",
     "text": [
      "+-----------+-------+-------------+-------------+-------+----+------------------------+---+-------+\n",
      "|Pregnancies|Glucose|BloodPressure|SkinThickness|Insulin| BMI|DiabetesPedigreeFunction|Age|Outcome|\n",
      "+-----------+-------+-------------+-------------+-------+----+------------------------+---+-------+\n",
      "|          6|    148|           72|           35|      0|33.6|                   0.627| 50|      1|\n",
      "|          1|     85|           66|           29|      0|26.6|                   0.351| 31|      0|\n",
      "|          8|    183|           64|            0|      0|23.3|                   0.672| 32|      1|\n",
      "|          1|     89|           66|           23|     94|28.1|                   0.167| 21|      0|\n",
      "|          0|    137|           40|           35|    168|43.1|                   2.288| 33|      1|\n",
      "+-----------+-------+-------------+-------------+-------+----+------------------------+---+-------+\n",
      "only showing top 5 rows\n",
      "\n",
      "Number of rows = 768\n",
      "Number of columns = 9\n"
     ]
    },
    {
     "data": {
      "text/plain": [
       "['Pregnancies',\n",
       " 'Glucose',\n",
       " 'BloodPressure',\n",
       " 'SkinThickness',\n",
       " 'Insulin',\n",
       " 'BMI',\n",
       " 'DiabetesPedigreeFunction',\n",
       " 'Age',\n",
       " 'Outcome']"
      ]
     },
     "execution_count": 10,
     "metadata": {},
     "output_type": "execute_result"
    }
   ],
   "source": [
    "# Looking at the first five rows of the Dataframe\n",
    "diabetes.show(5)\n",
    "\n",
    "# Checking the dimensions of the Dataframe\n",
    "print(\"Number of rows = \" + str(diabetes.count()))\n",
    "print(\"Number of columns = \" + str(len(diabetes.columns)))\n",
    "\n",
    "# Column names\n",
    "diabetes.columns"
   ]
  },
  {
   "cell_type": "code",
   "execution_count": 11,
   "metadata": {},
   "outputs": [],
   "source": [
    "# Splitting into train (75%) and test (25%)\n",
    "(train, test) = diabetes.randomSplit([0.75,0.25], seed=0)"
   ]
  },
  {
   "cell_type": "code",
   "execution_count": 12,
   "metadata": {},
   "outputs": [
    {
     "name": "stdout",
     "output_type": "stream",
     "text": [
      "The accuracy of logistic regression is 0.6839080459770115\n"
     ]
    }
   ],
   "source": [
    "# Logistic Regression\n",
    "\n",
    "# Creating the pipeline for fitting the model\n",
    "vectorAssembler = VectorAssembler(inputCols = ['Pregnancies','Glucose','BloodPressure','SkinThickness','Insulin','BMI',\n",
    "                                               'DiabetesPedigreeFunction','Age'], outputCol = 'features')\n",
    "logisticRegression = LogisticRegression(maxIter=15, regParam=0.5, elasticNetParam=0.3).setLabelCol('Outcome')\n",
    "pipeline = Pipeline(stages=[vectorAssembler, logisticRegression])\n",
    "\n",
    "# Fitting thr model\n",
    "model = pipeline.fit(train)\n",
    "\n",
    "# Prediction and evaluation\n",
    "prediction = model.transform(test)\n",
    "evaluator = MulticlassClassificationEvaluator(labelCol=\"Outcome\",\n",
    "                                              predictionCol=\"prediction\",\n",
    "                                              metricName=\"accuracy\")\n",
    "accuracy1 = evaluator.evaluate(prediction)\n",
    "print(\"The accuracy of logistic regression is \" + str(accuracy1))"
   ]
  },
  {
   "cell_type": "code",
   "execution_count": 13,
   "metadata": {},
   "outputs": [
    {
     "name": "stdout",
     "output_type": "stream",
     "text": [
      "The accuracy of gradient boosted tree classifier is 0.7586206896551724\n"
     ]
    }
   ],
   "source": [
    "# Gradient Boosted Tree Classification\n",
    "\n",
    "# Creating the pipeline for model fitting\n",
    "labelIndexer = StringIndexer(inputCol=\"Outcome\", outputCol=\"indexedLabel\")\n",
    "featureIndexer = VectorIndexer(inputCol=\"features\", outputCol=\"indexedFeatures\", maxCategories=4)\n",
    "gbt = GBTClassifier(labelCol=\"indexedLabel\", featuresCol=\"indexedFeatures\", maxIter=15)\n",
    "pipeline = Pipeline(stages=[vectorAssembler, labelIndexer, featureIndexer, gbt])\n",
    "\n",
    "# Fitting the model\n",
    "model = pipeline.fit(train)\n",
    "\n",
    "# Prediction and evaluation\n",
    "prediction = model.transform(test)\n",
    "evaluator = MulticlassClassificationEvaluator(labelCol=\"indexedLabel\",\n",
    "                                              predictionCol=\"prediction\",\n",
    "                                              metricName=\"accuracy\")\n",
    "accuracy2 = evaluator.evaluate(prediction)\n",
    "print(\"The accuracy of gradient boosted tree classifier is \" + str(accuracy2))"
   ]
  },
  {
   "cell_type": "code",
   "execution_count": 14,
   "metadata": {},
   "outputs": [
    {
     "name": "stdout",
     "output_type": "stream",
     "text": [
      "The accuracy of random forest classifier is 0.7758620689655172\n"
     ]
    }
   ],
   "source": [
    "# Random Forest Classification\n",
    "\n",
    "# Creating the pipeline for fitting the model\n",
    "rf = RandomForestClassifier(labelCol=\"indexedLabel\", featuresCol=\"indexedFeatures\", numTrees=100)\n",
    "pipeline = Pipeline(stages=[vectorAssembler, labelIndexer, featureIndexer, rf])\n",
    "\n",
    "# Fitting the model\n",
    "model = pipeline.fit(train)\n",
    "\n",
    "# Prediction and evaluation\n",
    "prediction = model.transform(test)\n",
    "accuracy3 = evaluator.evaluate(prediction)\n",
    "print(\"The accuracy of random forest classifier is \" + str(accuracy3))"
   ]
  }
 ],
 "metadata": {
  "kernelspec": {
   "display_name": "Python 3",
   "language": "python",
   "name": "python3"
  },
  "language_info": {
   "codemirror_mode": {
    "name": "ipython",
    "version": 3
   },
   "file_extension": ".py",
   "mimetype": "text/x-python",
   "name": "python",
   "nbconvert_exporter": "python",
   "pygments_lexer": "ipython3",
   "version": "3.6.4"
  }
 },
 "nbformat": 4,
 "nbformat_minor": 2
}
